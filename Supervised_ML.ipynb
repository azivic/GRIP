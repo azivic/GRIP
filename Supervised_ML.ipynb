{
  "nbformat": 4,
  "nbformat_minor": 0,
  "metadata": {
    "colab": {
      "name": "Supervised ML.ipynb",
      "provenance": [],
      "collapsed_sections": []
    },
    "kernelspec": {
      "name": "python3",
      "display_name": "Python 3"
    }
  },
  "cells": [
    {
      "cell_type": "markdown",
      "metadata": {
        "id": "PfRgR3le_QE_"
      },
      "source": [
        "#**Prediction Using Supervised ML** \n",
        "\n",
        "*   The Task is to predict the percentage of an student based on the no. of study hours\n",
        "*   The solution is to create a simple linear regression (involves only 2 variables). \n",
        "*   Answers the question : What will be predicted score if a student studies for 9.25 hrs/day?\n",
        "\n",
        "***Author: Andrijana Zivic***\n"
      ]
    },
    {
      "cell_type": "markdown",
      "metadata": {
        "id": "-zVQOwX4Cdlx"
      },
      "source": [
        "# Loading the dataset "
      ]
    },
    {
      "cell_type": "code",
      "metadata": {
        "id": "TmosXcPICqGF"
      },
      "source": [
        "#importing necessary libraries \n",
        "import numpy as np\n",
        "import pandas as pd\n",
        "import matplotlib.pyplot as plt\n",
        "from sklearn.model_selection import train_test_split \n",
        "from sklearn.linear_model import LinearRegression \n",
        "from sklearn import metrics  "
      ],
      "execution_count": 51,
      "outputs": []
    },
    {
      "cell_type": "code",
      "metadata": {
        "colab": {
          "base_uri": "https://localhost:8080/",
          "height": 834
        },
        "id": "D4puxHfyDMgC",
        "outputId": "570c32f1-6d13-4699-e15c-bbc76fb1fca4"
      },
      "source": [
        "#reading the data & displaying dataset\n",
        "df= pd.read_csv(\"http://bit.ly/w-data\")\n",
        "df"
      ],
      "execution_count": 52,
      "outputs": [
        {
          "output_type": "execute_result",
          "data": {
            "text/html": [
              "<div>\n",
              "<style scoped>\n",
              "    .dataframe tbody tr th:only-of-type {\n",
              "        vertical-align: middle;\n",
              "    }\n",
              "\n",
              "    .dataframe tbody tr th {\n",
              "        vertical-align: top;\n",
              "    }\n",
              "\n",
              "    .dataframe thead th {\n",
              "        text-align: right;\n",
              "    }\n",
              "</style>\n",
              "<table border=\"1\" class=\"dataframe\">\n",
              "  <thead>\n",
              "    <tr style=\"text-align: right;\">\n",
              "      <th></th>\n",
              "      <th>Hours</th>\n",
              "      <th>Scores</th>\n",
              "    </tr>\n",
              "  </thead>\n",
              "  <tbody>\n",
              "    <tr>\n",
              "      <th>0</th>\n",
              "      <td>2.5</td>\n",
              "      <td>21</td>\n",
              "    </tr>\n",
              "    <tr>\n",
              "      <th>1</th>\n",
              "      <td>5.1</td>\n",
              "      <td>47</td>\n",
              "    </tr>\n",
              "    <tr>\n",
              "      <th>2</th>\n",
              "      <td>3.2</td>\n",
              "      <td>27</td>\n",
              "    </tr>\n",
              "    <tr>\n",
              "      <th>3</th>\n",
              "      <td>8.5</td>\n",
              "      <td>75</td>\n",
              "    </tr>\n",
              "    <tr>\n",
              "      <th>4</th>\n",
              "      <td>3.5</td>\n",
              "      <td>30</td>\n",
              "    </tr>\n",
              "    <tr>\n",
              "      <th>5</th>\n",
              "      <td>1.5</td>\n",
              "      <td>20</td>\n",
              "    </tr>\n",
              "    <tr>\n",
              "      <th>6</th>\n",
              "      <td>9.2</td>\n",
              "      <td>88</td>\n",
              "    </tr>\n",
              "    <tr>\n",
              "      <th>7</th>\n",
              "      <td>5.5</td>\n",
              "      <td>60</td>\n",
              "    </tr>\n",
              "    <tr>\n",
              "      <th>8</th>\n",
              "      <td>8.3</td>\n",
              "      <td>81</td>\n",
              "    </tr>\n",
              "    <tr>\n",
              "      <th>9</th>\n",
              "      <td>2.7</td>\n",
              "      <td>25</td>\n",
              "    </tr>\n",
              "    <tr>\n",
              "      <th>10</th>\n",
              "      <td>7.7</td>\n",
              "      <td>85</td>\n",
              "    </tr>\n",
              "    <tr>\n",
              "      <th>11</th>\n",
              "      <td>5.9</td>\n",
              "      <td>62</td>\n",
              "    </tr>\n",
              "    <tr>\n",
              "      <th>12</th>\n",
              "      <td>4.5</td>\n",
              "      <td>41</td>\n",
              "    </tr>\n",
              "    <tr>\n",
              "      <th>13</th>\n",
              "      <td>3.3</td>\n",
              "      <td>42</td>\n",
              "    </tr>\n",
              "    <tr>\n",
              "      <th>14</th>\n",
              "      <td>1.1</td>\n",
              "      <td>17</td>\n",
              "    </tr>\n",
              "    <tr>\n",
              "      <th>15</th>\n",
              "      <td>8.9</td>\n",
              "      <td>95</td>\n",
              "    </tr>\n",
              "    <tr>\n",
              "      <th>16</th>\n",
              "      <td>2.5</td>\n",
              "      <td>30</td>\n",
              "    </tr>\n",
              "    <tr>\n",
              "      <th>17</th>\n",
              "      <td>1.9</td>\n",
              "      <td>24</td>\n",
              "    </tr>\n",
              "    <tr>\n",
              "      <th>18</th>\n",
              "      <td>6.1</td>\n",
              "      <td>67</td>\n",
              "    </tr>\n",
              "    <tr>\n",
              "      <th>19</th>\n",
              "      <td>7.4</td>\n",
              "      <td>69</td>\n",
              "    </tr>\n",
              "    <tr>\n",
              "      <th>20</th>\n",
              "      <td>2.7</td>\n",
              "      <td>30</td>\n",
              "    </tr>\n",
              "    <tr>\n",
              "      <th>21</th>\n",
              "      <td>4.8</td>\n",
              "      <td>54</td>\n",
              "    </tr>\n",
              "    <tr>\n",
              "      <th>22</th>\n",
              "      <td>3.8</td>\n",
              "      <td>35</td>\n",
              "    </tr>\n",
              "    <tr>\n",
              "      <th>23</th>\n",
              "      <td>6.9</td>\n",
              "      <td>76</td>\n",
              "    </tr>\n",
              "    <tr>\n",
              "      <th>24</th>\n",
              "      <td>7.8</td>\n",
              "      <td>86</td>\n",
              "    </tr>\n",
              "  </tbody>\n",
              "</table>\n",
              "</div>"
            ],
            "text/plain": [
              "    Hours  Scores\n",
              "0     2.5      21\n",
              "1     5.1      47\n",
              "2     3.2      27\n",
              "3     8.5      75\n",
              "4     3.5      30\n",
              "5     1.5      20\n",
              "6     9.2      88\n",
              "7     5.5      60\n",
              "8     8.3      81\n",
              "9     2.7      25\n",
              "10    7.7      85\n",
              "11    5.9      62\n",
              "12    4.5      41\n",
              "13    3.3      42\n",
              "14    1.1      17\n",
              "15    8.9      95\n",
              "16    2.5      30\n",
              "17    1.9      24\n",
              "18    6.1      67\n",
              "19    7.4      69\n",
              "20    2.7      30\n",
              "21    4.8      54\n",
              "22    3.8      35\n",
              "23    6.9      76\n",
              "24    7.8      86"
            ]
          },
          "metadata": {
            "tags": []
          },
          "execution_count": 52
        }
      ]
    },
    {
      "cell_type": "markdown",
      "metadata": {
        "id": "0Mv0J4N-GCRb"
      },
      "source": [
        "To find the correlation between the data in this task, it is enough to plot data points on a 2-D graph and manually take a look on dataset."
      ]
    },
    {
      "cell_type": "markdown",
      "metadata": {
        "id": "GHGXY_jOJ190"
      },
      "source": [
        "# Relationship between the data "
      ]
    },
    {
      "cell_type": "code",
      "metadata": {
        "colab": {
          "base_uri": "https://localhost:8080/",
          "height": 295
        },
        "id": "XcqUIAmnHQ6B",
        "outputId": "bf7891dc-2f43-46af-f684-892a925662f8"
      },
      "source": [
        "#plotting the distribution of scores\n",
        "\n",
        "df.plot(x='Hours', y='Scores', style='.', color='red')\n",
        "plt.title('Hours VS Percentage')\n",
        "plt.xlabel('Hours')\n",
        "plt.ylabel('Percentage Score')\n",
        "plt.show()"
      ],
      "execution_count": 11,
      "outputs": [
        {
          "output_type": "display_data",
          "data": {
            "image/png": "[encoded data removed]",
            "text/plain": [
              "<Figure size 432x288 with 1 Axes>"
            ]
          },
          "metadata": {
            "tags": [],
            "needs_background": "light"
          }
        }
      ]
    },
    {
      "cell_type": "markdown",
      "metadata": {
        "id": "xukVngjpIRj9"
      },
      "source": [
        "From the graph above, we can clearly see that there is a positive linear relation between the number of hours studied and percentage of score. The aim of regression analysis is to determine the regression model that best describes the relationship between the phenomenon and to estimation model and predicted values of the dependent variable Y for selected values of the explanatory variable X.\n",
        "In order to create a regression model, it is initially necessary to prepare and train data."
      ]
    },
    {
      "cell_type": "markdown",
      "metadata": {
        "id": "NrgdTVSVKEm0"
      },
      "source": [
        "# Preparing the data"
      ]
    },
    {
      "cell_type": "markdown",
      "metadata": {
        "id": "zVwJtQveWSVr"
      },
      "source": [
        "The 20% will be used for testing, and the 80% will make a training set."
      ]
    },
    {
      "cell_type": "code",
      "metadata": {
        "id": "mI8p7oxQKS1e"
      },
      "source": [
        "#division of the data into \"attributes\" (inputs) and \"labels\" (outputs) --slicing \n",
        "x = df.iloc[:, :-1].values  \n",
        "y = df.iloc[:, 1].values \n",
        "\n",
        "#spliting this data into training and test sets.\n",
        "x_train, x_test, y_train, y_test= train_test_split(x,y, test_size =0.2, random_state=0)"
      ],
      "execution_count": 34,
      "outputs": []
    },
    {
      "cell_type": "markdown",
      "metadata": {
        "id": "RdzLeIkELWPo"
      },
      "source": [
        "# Training the Algorithm"
      ]
    },
    {
      "cell_type": "code",
      "metadata": {
        "colab": {
          "base_uri": "https://localhost:8080/"
        },
        "id": "AgyNmfjRLaRs",
        "outputId": "22ac2d68-77ad-4f53-90c3-e2274fd4f9d6"
      },
      "source": [
        "lm = LinearRegression()\n",
        "lm.fit(x_train,y_train)\n",
        "\n",
        "#display of the model coefficient \n",
        "print(\"Training complete. Coefficient: \", lm.coef_)\n",
        "#The bigger the coefficient is the bigger is the impact on the regression"
      ],
      "execution_count": 56,
      "outputs": [
        {
          "output_type": "stream",
          "text": [
            "Training complete. Coefficient:  [9.91065648]\n"
          ],
          "name": "stdout"
        }
      ]
    },
    {
      "cell_type": "code",
      "metadata": {
        "colab": {
          "base_uri": "https://localhost:8080/",
          "height": 265
        },
        "id": "3xwmb_gOMHia",
        "outputId": "5502ccdd-b33d-4d24-9473-cd10ca268926"
      },
      "source": [
        "#regression line display (Y=kX+ε)\n",
        "line = lm.coef_*x+lm.intercept_\n",
        "\n",
        "plt.scatter(x, y, color='red')\n",
        "plt.plot(x, line);\n",
        "plt.show()"
      ],
      "execution_count": 57,
      "outputs": [
        {
          "output_type": "display_data",
          "data": {
            "image/png": "[encoded data removed]",
            "text/plain": [
              "<Figure size 432x288 with 1 Axes>"
            ]
          },
          "metadata": {
            "tags": [],
            "needs_background": "light"
          }
        }
      ]
    },
    {
      "cell_type": "markdown",
      "metadata": {
        "id": "a288WgKQM-Rd"
      },
      "source": [
        "# Making Predictions\n"
      ]
    },
    {
      "cell_type": "code",
      "metadata": {
        "colab": {
          "base_uri": "https://localhost:8080/",
          "height": 206
        },
        "id": "2z_M4SyOYRvf",
        "outputId": "7e07366b-34d2-45e2-c89c-b8c209adf5c9"
      },
      "source": [
        "#prediction on test data\n",
        "y_prediction_t=lm.predict(x_test)\n",
        "df2= pd.DataFrame({'Actual values': y_test, 'Predicted values': y_prediction_t})\n",
        "df2"
      ],
      "execution_count": 58,
      "outputs": [
        {
          "output_type": "execute_result",
          "data": {
            "text/html": [
              "<div>\n",
              "<style scoped>\n",
              "    .dataframe tbody tr th:only-of-type {\n",
              "        vertical-align: middle;\n",
              "    }\n",
              "\n",
              "    .dataframe tbody tr th {\n",
              "        vertical-align: top;\n",
              "    }\n",
              "\n",
              "    .dataframe thead th {\n",
              "        text-align: right;\n",
              "    }\n",
              "</style>\n",
              "<table border=\"1\" class=\"dataframe\">\n",
              "  <thead>\n",
              "    <tr style=\"text-align: right;\">\n",
              "      <th></th>\n",
              "      <th>Actual values</th>\n",
              "      <th>Predicted values</th>\n",
              "    </tr>\n",
              "  </thead>\n",
              "  <tbody>\n",
              "    <tr>\n",
              "      <th>0</th>\n",
              "      <td>20</td>\n",
              "      <td>16.884145</td>\n",
              "    </tr>\n",
              "    <tr>\n",
              "      <th>1</th>\n",
              "      <td>27</td>\n",
              "      <td>33.732261</td>\n",
              "    </tr>\n",
              "    <tr>\n",
              "      <th>2</th>\n",
              "      <td>69</td>\n",
              "      <td>75.357018</td>\n",
              "    </tr>\n",
              "    <tr>\n",
              "      <th>3</th>\n",
              "      <td>30</td>\n",
              "      <td>26.794801</td>\n",
              "    </tr>\n",
              "    <tr>\n",
              "      <th>4</th>\n",
              "      <td>62</td>\n",
              "      <td>60.491033</td>\n",
              "    </tr>\n",
              "  </tbody>\n",
              "</table>\n",
              "</div>"
            ],
            "text/plain": [
              "   Actual values  Predicted values\n",
              "0             20         16.884145\n",
              "1             27         33.732261\n",
              "2             69         75.357018\n",
              "3             30         26.794801\n",
              "4             62         60.491033"
            ]
          },
          "metadata": {
            "tags": []
          },
          "execution_count": 58
        }
      ]
    },
    {
      "cell_type": "code",
      "metadata": {
        "colab": {
          "base_uri": "https://localhost:8080/",
          "height": 206
        },
        "id": "51_QKr9_awm9",
        "outputId": "295fcbc0-33f9-4a6d-edea-9a275826eb89"
      },
      "source": [
        "#prediction on train data\n",
        "y_prediction_tr=lm.predict(x_train)\n",
        "df2= pd.DataFrame({'Actual values': y_train, 'Predicted values': y_prediction_tr})\n",
        "df2.head(5)"
      ],
      "execution_count": 59,
      "outputs": [
        {
          "output_type": "execute_result",
          "data": {
            "text/html": [
              "<div>\n",
              "<style scoped>\n",
              "    .dataframe tbody tr th:only-of-type {\n",
              "        vertical-align: middle;\n",
              "    }\n",
              "\n",
              "    .dataframe tbody tr th {\n",
              "        vertical-align: top;\n",
              "    }\n",
              "\n",
              "    .dataframe thead th {\n",
              "        text-align: right;\n",
              "    }\n",
              "</style>\n",
              "<table border=\"1\" class=\"dataframe\">\n",
              "  <thead>\n",
              "    <tr style=\"text-align: right;\">\n",
              "      <th></th>\n",
              "      <th>Actual values</th>\n",
              "      <th>Predicted values</th>\n",
              "    </tr>\n",
              "  </thead>\n",
              "  <tbody>\n",
              "    <tr>\n",
              "      <th>0</th>\n",
              "      <td>35</td>\n",
              "      <td>39.678655</td>\n",
              "    </tr>\n",
              "    <tr>\n",
              "      <th>1</th>\n",
              "      <td>24</td>\n",
              "      <td>20.848407</td>\n",
              "    </tr>\n",
              "    <tr>\n",
              "      <th>2</th>\n",
              "      <td>86</td>\n",
              "      <td>79.321281</td>\n",
              "    </tr>\n",
              "    <tr>\n",
              "      <th>3</th>\n",
              "      <td>76</td>\n",
              "      <td>70.401690</td>\n",
              "    </tr>\n",
              "    <tr>\n",
              "      <th>4</th>\n",
              "      <td>17</td>\n",
              "      <td>12.919882</td>\n",
              "    </tr>\n",
              "  </tbody>\n",
              "</table>\n",
              "</div>"
            ],
            "text/plain": [
              "   Actual values  Predicted values\n",
              "0             35         39.678655\n",
              "1             24         20.848407\n",
              "2             86         79.321281\n",
              "3             76         70.401690\n",
              "4             17         12.919882"
            ]
          },
          "metadata": {
            "tags": []
          },
          "execution_count": 59
        }
      ]
    },
    {
      "cell_type": "markdown",
      "metadata": {
        "id": "lce6jzNxaHvK"
      },
      "source": [
        "# Testing model reliability"
      ]
    },
    {
      "cell_type": "markdown",
      "metadata": {
        "id": "AjuSREyKdkqG"
      },
      "source": [
        "Mean absolute error (MAE) measures the averarge strength of errors in the predicted set, disregarding their direction. That is the average for the test sample of absolute differences between a prediction and real observation, where all of the individual differences are of the same weight and negatively oriented. \n",
        "The end testing of reliability will be done by calculating the determination coefficient, that is by determining the data deviation from its assumed value determined by the formula."
      ]
    },
    {
      "cell_type": "code",
      "metadata": {
        "colab": {
          "base_uri": "https://localhost:8080/"
        },
        "id": "UB1VGEd5bmRl",
        "outputId": "24effabb-0e72-4c7c-8fbd-3e2981094218"
      },
      "source": [
        "hours = 9.25\n",
        "hours_np= np.asarray(hours)\n",
        "hours_reshape= hours_np.reshape(-1,1)\n",
        "result = lm.predict(hours_reshape)\n",
        "print(f\"If Student studies for {hours} hrs/day then the predicted score will be {round(result[0],1)} \\n\")\n",
        "\n",
        "print('MAE:', metrics.mean_absolute_error(y_test, y_prediction_t)) \n",
        "\n",
        "SS_Residual = sum((y_test-y_prediction_t)**2)\n",
        "SS_Total = sum((y_test-np.mean(y_test))**2) \n",
        "r_squared = 1 - (float(SS_Residual))/SS_Total\n",
        "print('R Squared:', r_squared)"
      ],
      "execution_count": 68,
      "outputs": [
        {
          "output_type": "stream",
          "text": [
            "If Student studies for 9.25 hrs/day then the predicted score will be 93.7 \n",
            "\n",
            "MAE: 4.183859899002982\n",
            "R Squared: 0.9454906892105354\n"
          ],
          "name": "stdout"
        }
      ]
    },
    {
      "cell_type": "markdown",
      "metadata": {
        "id": "oAmkLVBjnWyR"
      },
      "source": [
        "The value of the determination coefficient is almost 1, so the relationship between predicted and actual data is very strong and the regression model is reliable. "
      ]
    }
  ]
}